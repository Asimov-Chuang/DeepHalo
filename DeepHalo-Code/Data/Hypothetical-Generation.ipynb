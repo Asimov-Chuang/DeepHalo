{
 "cells": [
  {
   "cell_type": "code",
   "execution_count": 1,
   "id": "a4ae5ffb-c91c-4683-81b0-51e73a914dbc",
   "metadata": {},
   "outputs": [],
   "source": [
    "import numpy as np\n",
    "import itertools\n",
    "import pandas as pd"
   ]
  },
  {
   "cell_type": "code",
   "execution_count": 4,
   "id": "6e7dce7e-faaa-4fdb-9df4-9f4b9b14a325",
   "metadata": {},
   "outputs": [],
   "source": [
    "def generate_one_hot(probabilities):\n",
    "    probabilities = np.array(probabilities)\n",
    "    p_index = np.random.choice(len(probabilities), p=probabilities)\n",
    "    one_hot = np.zeros_like(probabilities)\n",
    "    one_hot[p_index] = 1\n",
    "    return one_hot\n",
    "    \n",
    "product_set = [0, 1, 2, 3]\n",
    "offer_set = [0, 1, 2, 3]\n",
    "X = []\n",
    "Y = []\n",
    "np.random.seed(10)\n",
    "hypothetical_choice_p = [[0.98, 0.02, 0, 0],\n",
    "                         [0.5, 0, 0.5, 0],\n",
    "                         [0.5, 0, 0, 0.5],\n",
    "                         [0, 0.5, 0.5, 0],\n",
    "                         [0, 0.5, 0, 0.5],\n",
    "                         [0, 0, 0.9, 0.1],\n",
    "                         [0.49, 0.01, 0.5, 0],\n",
    "                         [0.49, 0.01, 0, 0.5],\n",
    "                         [0.5, 0, 0.45, 0.05],\n",
    "                         [0, 0.5, 0.45, 0.05],\n",
    "                         [0.49, 0.01, 0.45, 0.05]]\n",
    "\n",
    "index = 0\n",
    "for r in range(2, len(offer_set) + 1):\n",
    "    for subset in itertools.combinations(offer_set, r):\n",
    "        binary_subset = [1 if x in subset else 0 for x in offer_set]\n",
    "        p = hypothetical_choice_p[index]\n",
    "        for _ in range(200):\n",
    "            X.append(binary_subset)\n",
    "            Y.append(generate_one_hot(p).reshape((1, len(product_set))))\n",
    "        index += 1\n",
    "\n",
    "\n",
    "X = np.array(X)\n",
    "Y = np.concatenate(Y, axis=0)\n",
    "dataset = np.concatenate((X, Y), axis=1)\n",
    "df = pd.DataFrame(dataset, columns=['X' + str(i) for i in product_set] + ['Y' + str(i) for i in product_set])\n",
    "csv_file = 'hypothetical-4p-test.csv'\n",
    "df.to_csv(csv_file, index=False)\n",
    "\n",
    "\n",
    "X = []\n",
    "Y = []\n",
    "np.random.seed(42)\n",
    "index = 0\n",
    "for r in range(2, len(offer_set) + 1):\n",
    "    for subset in itertools.combinations(offer_set, r):\n",
    "        binary_subset = [1 if x in subset else 0 for x in offer_set]\n",
    "        p = hypothetical_choice_p[index]\n",
    "        for _ in range(2000):\n",
    "            X.append(binary_subset)\n",
    "            Y.append(generate_one_hot(p).reshape((1, len(product_set))))\n",
    "        index += 1\n",
    "\n",
    "\n",
    "X = np.array(X)\n",
    "Y = np.concatenate(Y, axis=0)\n",
    "dataset = np.concatenate((X, Y), axis=1)\n",
    "df = pd.DataFrame(dataset, columns=['X' + str(i) for i in product_set] + ['Y' + str(i) for i in product_set])\n",
    "csv_file = 'hypothetical-4p-train.csv'\n",
    "df.to_csv(csv_file, index=False)\n"
   ]
  },
  {
   "cell_type": "code",
   "execution_count": null,
   "id": "84dc6c96-c143-49b1-99ac-4878f6bd70e4",
   "metadata": {},
   "outputs": [],
   "source": []
  }
 ],
 "metadata": {
  "kernelspec": {
   "display_name": "Python 3 (ipykernel)",
   "language": "python",
   "name": "python3"
  },
  "language_info": {
   "codemirror_mode": {
    "name": "ipython",
    "version": 3
   },
   "file_extension": ".py",
   "mimetype": "text/x-python",
   "name": "python",
   "nbconvert_exporter": "python",
   "pygments_lexer": "ipython3",
   "version": "3.12.3"
  }
 },
 "nbformat": 4,
 "nbformat_minor": 5
}
